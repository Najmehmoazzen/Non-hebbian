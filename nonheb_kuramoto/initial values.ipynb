{
 "cells": [
  {
   "cell_type": "markdown",
   "id": "995b8f88",
   "metadata": {},
   "source": [
    "### Adj matrix"
   ]
  },
  {
   "cell_type": "code",
   "execution_count": 5,
   "id": "87f77175",
   "metadata": {},
   "outputs": [],
   "source": [
    "import networkx as nx\n",
    "import numpy as np\n",
    "\n",
    "# Number of nodes\n",
    "n = 100\n",
    "\n",
    "# Desired average degree\n",
    "avg_degree = 20\n",
    "\n",
    "# Calculate the edge probability\n",
    "p = avg_degree / (n - 1)\n",
    "\n",
    "# Generate Erdős-Rényi graph\n",
    "G = nx.erdos_renyi_graph(n, p, seed=42)\n",
    "\n",
    "# Convert to adjacency matrix\n",
    "A = nx.to_numpy_array(G)\n",
    "\n",
    "# Make symmetric (for safety, although nx already returns symmetric for undirected)\n",
    "A = (A + A.T) / 2\n",
    "\n",
    "# Save to file\n",
    "np.savetxt('./input_data/A=Intralayer adjacency matrix/Layer1.txt', A, fmt='%.0f', delimiter='\\t')"
   ]
  },
  {
   "cell_type": "code",
   "execution_count": 6,
   "id": "da359ac5",
   "metadata": {},
   "outputs": [
    {
     "data": {
      "text/plain": [
       "\"import networkx as nx\\nimport numpy as np\\n\\n# Define the number of nodes in the network\\nn = 100\\n\\n# Define the probability of an edge between any two nodes\\np = 0.2\\n\\n# Create the Erdős-Rényi network\\nG = nx.erdos_renyi_graph(n, p, seed=42)\\n\\n# Create the adjacency matrix\\nA = nx.to_numpy_array(G)\\n\\n# Make the matrix symmetric (undirected network)\\nA = (A + A.T) / 2\\n\\n# Save the matrix to a text file\\nnp.savetxt('./input_data/A=Intralayeradjacencymatrix/Layer1.txt', A, fmt='%.0f', delimiter='\\t')\""
      ]
     },
     "execution_count": 6,
     "metadata": {},
     "output_type": "execute_result"
    }
   ],
   "source": [
    "'''import networkx as nx\n",
    "import numpy as np\n",
    "\n",
    "# Define the number of nodes in the network\n",
    "n = 100\n",
    "\n",
    "# Define the probability of an edge between any two nodes\n",
    "p = 0.2\n",
    "\n",
    "# Create the Erdős-Rényi network\n",
    "G = nx.erdos_renyi_graph(n, p, seed=42)\n",
    "\n",
    "# Create the adjacency matrix\n",
    "A = nx.to_numpy_array(G)\n",
    "\n",
    "# Make the matrix symmetric (undirected network)\n",
    "A = (A + A.T) / 2\n",
    "\n",
    "# Save the matrix to a text file\n",
    "np.savetxt('./input_data/A=Intralayeradjacencymatrix/Layer1.txt', A, fmt='%.0f', delimiter='\\t')'''"
   ]
  },
  {
   "cell_type": "markdown",
   "id": "9c9ad942",
   "metadata": {},
   "source": [
    "### Natraul frequency"
   ]
  },
  {
   "cell_type": "code",
   "execution_count": 7,
   "id": "119a9a9e",
   "metadata": {},
   "outputs": [
    {
     "name": "stdout",
     "output_type": "stream",
     "text": [
      "Done :)\n"
     ]
    }
   ],
   "source": [
    "import numpy as np\n",
    "\n",
    "def create_random_gaussian(path, number, mean, std_dev):\n",
    "    \"\"\"\n",
    "    Create a file containing random numbers from a Gaussian distribution.\n",
    "\n",
    "    Parameters:\n",
    "    path (str): File path to save the numbers.\n",
    "    number (int): Number of random numbers to generate.\n",
    "    mean (float): Mean of the Gaussian distribution.\n",
    "    std_dev (float): Standard deviation of the Gaussian distribution.\n",
    "    \"\"\"\n",
    "    with open(path, \"w\") as file:\n",
    "        for _ in range(number):\n",
    "            random_value = np.random.normal(mean, std_dev)\n",
    "            random_value = np.round(random_value, 4)  # Save with 4 decimal digits\n",
    "            file.write(str(random_value) + \"\\n\")\n",
    "    pass\n",
    "\n",
    "def main():\n",
    "    number_of_node = n\n",
    "    mean_of_distribution = 0  # Mean of the Gaussian distribution\n",
    "    std_dev_of_distribution = np.pi  # Standard deviation of the Gaussian distribution\n",
    "\n",
    "    address_name_for_save = (\n",
    "        './input_data/W=Natural frequency/natural.txt'\n",
    "    )\n",
    "\n",
    "    create_random_gaussian(address_name_for_save, number_of_node, mean_of_distribution, std_dev_of_distribution)\n",
    "    print(\"Done :)\")\n",
    "    pass\n",
    "\n",
    "if __name__ == \"__main__\":\n",
    "    main()"
   ]
  },
  {
   "cell_type": "markdown",
   "id": "b6f3536b",
   "metadata": {},
   "source": [
    "### initial phases"
   ]
  },
  {
   "cell_type": "code",
   "execution_count": 8,
   "id": "57a1ee25",
   "metadata": {},
   "outputs": [
    {
     "name": "stdout",
     "output_type": "stream",
     "text": [
      "Done :)\n"
     ]
    }
   ],
   "source": [
    "import numpy as np\n",
    "\n",
    "def create_random(path,number,beginning,end):\n",
    "    import random\n",
    "    with open(path, \"w\") as file:\n",
    "        for _ in range(number):\n",
    "            random_value = random.uniform(beginning, end)\n",
    "            random_value=np.round(random_value,4)   #to save with 4 decimal digits\n",
    "            file.write(str(random_value) + \"\\n\")\n",
    "    pass\n",
    "\n",
    "def main():\n",
    "    number_of_node=n\n",
    "    beginning_of_range=0\n",
    "    end_of_range=2*np.pi\n",
    "    address_name_for_save='./input_data/P=Initial Phases/theta.txt'\n",
    "    create_random(address_name_for_save,number_of_node,beginning_of_range,end_of_range)\n",
    "    print(\"Done :)\")\n",
    "    pass\n",
    "\n",
    "\n",
    "if __name__==\"__main__\":\n",
    "    main()"
   ]
  },
  {
   "cell_type": "code",
   "execution_count": null,
   "id": "468acd31",
   "metadata": {},
   "outputs": [],
   "source": []
  }
 ],
 "metadata": {
  "kernelspec": {
   "display_name": "Python 3",
   "language": "python",
   "name": "python3"
  },
  "language_info": {
   "codemirror_mode": {
    "name": "ipython",
    "version": 3
   },
   "file_extension": ".py",
   "mimetype": "text/x-python",
   "name": "python",
   "nbconvert_exporter": "python",
   "pygments_lexer": "ipython3",
   "version": "3.11.9"
  }
 },
 "nbformat": 4,
 "nbformat_minor": 5
}
